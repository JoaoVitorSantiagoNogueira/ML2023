{
  "nbformat": 4,
  "nbformat_minor": 0,
  "metadata": {
    "colab": {
      "provenance": [],
      "authorship_tag": "ABX9TyP0JJOIMeOChv5enfGqtRtc",
      "include_colab_link": true
    },
    "kernelspec": {
      "name": "python3",
      "display_name": "Python 3"
    },
    "language_info": {
      "name": "python"
    }
  },
  "cells": [
    {
      "cell_type": "markdown",
      "metadata": {
        "id": "view-in-github",
        "colab_type": "text"
      },
      "source": [
        "<a href=\"https://colab.research.google.com/github/JoaoVitorSantiagoNogueira/ML2023/blob/main/PokemonClassifier.ipynb\" target=\"_parent\"><img src=\"https://colab.research.google.com/assets/colab-badge.svg\" alt=\"Open In Colab\"/></a>"
      ]
    },
    {
      "cell_type": "markdown",
      "source": [
        "#Importar as bibliotecas"
      ],
      "metadata": {
        "id": "AdUdqfxloMK1"
      }
    },
    {
      "cell_type": "code",
      "execution_count": 18,
      "metadata": {
        "id": "h-MgkpMroJuA"
      },
      "outputs": [],
      "source": [
        "import pandas as pd\n",
        "import scipy as sp\n",
        "from sklearn.decomposition import PCA\n",
        "from sklearn.linear_model import LogisticRegression\n",
        "from sklearn.svm import SVC\n",
        "from sklearn.tree import DecisionTreeClassifier as DTC\n",
        "from sklearn.tree import plot_tree\n",
        "from sklearn.ensemble import RandomForestClassifier as RFC\n",
        "from sklearn.model_selection import train_test_split as tts\n",
        "from sklearn.metrics import confusion_matrix as CM\n",
        "import numpy as np\n",
        "import matplotlib.pyplot as plt"
      ]
    },
    {
      "cell_type": "markdown",
      "source": [
        "#Preparar o Dataset\n"
      ],
      "metadata": {
        "id": "OHgWocLqoW_d"
      }
    },
    {
      "cell_type": "markdown",
      "source": [
        "Ler o data set"
      ],
      "metadata": {
        "id": "bslpe39Qodfv"
      }
    },
    {
      "cell_type": "code",
      "source": [
        "pokemonDF = pd.read_csv(\"/content/pokemon.csv\")"
      ],
      "metadata": {
        "id": "ttWvfPfcocju"
      },
      "execution_count": 3,
      "outputs": []
    },
    {
      "cell_type": "markdown",
      "source": [
        "## Préprocessar"
      ],
      "metadata": {
        "id": "S4Xgs_GUogM5"
      }
    },
    {
      "cell_type": "markdown",
      "source": [
        "### Remover as entradas que não deveriam pertencer ao dataset.\n",
        "\n",
        "Aqui removemos as linhas que o enunciado solicita que nós não utlizemos.\n",
        "\n",
        "\n",
        "\n"
      ],
      "metadata": {
        "id": "Utcs7v_5oc2R"
      }
    },
    {
      "cell_type": "markdown",
      "source": [
        "O que é uma pena, o conhecimento a priório de pokémon diz que além de fraqueza contra elétrico, pokémons aquaticos tem fraqueza contra grama. Essa seria um ótimo parametro para selecionar pokémons como Swampert, Wishcash e Seismictoad, cujos tipos secundários (terra) conferem imunidade ao tipo elétrico.\n",
        "\n",
        "Além disso, discartar o tipo secundário, resulta em um dataset imperfeito, já que a ordem do tipo do pokémon é inter operavel, vide: https://www.reddit.com/r/pokemon/comments/b2zvom/primary_vs_secondary_types/\n",
        "\n",
        " Dois pokémons pode ter o mesmo tipo em ordem reversa, como sableye (Dark/Ghost) e Spiritomb (Ghost/Dark). Além disso, pokémons podem ter o tipo pertinente como o segundo tipo, que são desconsiderados.\n",
        "\n",
        "Além disso temos um exemplo que pertence a ambas as classes, Bibarel, que tem ambos os tipos, que por nossa classificacao, pertenceria ao tipo normal, mas que igualmente poderia ser classificado como tipo agua. Por ele ser um outlier nesse aspecto, ele foi removido."
      ],
      "metadata": {
        "id": "Len64emmVFcY"
      }
    },
    {
      "cell_type": "code",
      "source": [
        "#remover bibarel\n",
        "pokemonDF = pokemonDF.drop(pokemonDF[pokemonDF['pokedex_number'] == 400].index,)"
      ],
      "metadata": {
        "id": "mfDQqBtiVutp"
      },
      "execution_count": 4,
      "outputs": []
    },
    {
      "cell_type": "code",
      "source": [
        "# remover linhas \"ilegais\"\n",
        "pokemonDF = pokemonDF.drop([\"abilities\", \"against_bug\", \"against_dark\",\t\"against_dragon\",\t\"against_fairy\",\t\"against_fight\",\t\"against_fire\",\t\"against_flying\",\t\"against_ghost\", \"against_grass\",\"against_ground\",\"against_ice\",\"against_normal\",\"against_poison\",\"against_psychic\",\"against_rock\", \"against_steel\", \"against_water\", \"type2\"], axis =1,errors='ignore')"
      ],
      "metadata": {
        "id": "icfoCGZkol3_"
      },
      "execution_count": 5,
      "outputs": []
    },
    {
      "cell_type": "markdown",
      "source": [
        "\n",
        "Além disso, alguns dados são irrelevantes ou difíceis de serem utilizados. Alguns exemplos são nomes, classificacao e numero no pokedex. Nome e classificacao podem dar pistas por trás do tipo de pokemon, por exemplo o pokémon seaking contém a palavra \"sea\" no nome, e é classificado como o goldfish pokémon, mas esse tipo de processamento cai fora do escopo do trabalho. Quanto ao número e geracao, são apenas ordenacoes arbitrárias que näo tem muita relacao com o pokemon em si. Além disso, o campo altura, peso e gender ratio, apresentam linhas sem valor. Não acreditamos que esses valores sejam muito relevantes, logo descartamos las também."
      ],
      "metadata": {
        "id": "O1tHFBe8Riqb"
      }
    },
    {
      "cell_type": "code",
      "source": [
        "pokemonDF = pokemonDF.drop([\"classfication\", \"name\", \"japanese_name\", \"pokedex_number\", \"generation\", \"weight_kg\", \"height_m\", \"percentage_male\"], axis = 1, errors='ignore')"
      ],
      "metadata": {
        "id": "0N4d4PpxQxxH"
      },
      "execution_count": 6,
      "outputs": []
    },
    {
      "cell_type": "markdown",
      "source": [
        "Outras váriaveis como se um pokémon é lendario ou não, soma total de status, e altura provavlemente não são relevantes, mas na incerteza manteremos esses dados e faremos uma analise futura.\n",
        "Algumas caracteristicas que nosso conhecimento prévio nos diz que provavelmente são bons indicadores para o tipo são a fraqueza a eleétrico, já que quase todo pokemon tipo agua tem, além de fatores como os stats do pokémon (vida, defesa etc) que suspeitamos que os pokémons tipo agua tenham mais vida e ataque especial, e os tipo normal ataque e velocidade."
      ],
      "metadata": {
        "id": "aCUxQwHaU5my"
      }
    },
    {
      "cell_type": "markdown",
      "source": [
        "vamos separar em dois dataset também. O exercicio pede um classifcador binário, normal ou água, mas poderiamos ter um terceiro fator, nenhum para os demais pokémons. Por isso vamos criar um o dataframe normal e agua, DFNW."
      ],
      "metadata": {
        "id": "cLzFFzIqWzhq"
      }
    },
    {
      "cell_type": "markdown",
      "source": [
        "### Transformar rotulos em números\n",
        "Para a matemática funcionar melhor precisamos transformar o atributo tipo em um valor númérico, Water = 1, Normal = -1, resto = 0."
      ],
      "metadata": {
        "id": "v3nWVJL3asHs"
      }
    },
    {
      "cell_type": "code",
      "source": [
        "pokemonDF.loc[~pokemonDF['type1'].isin([\"water\",\"normal\"]), 'type1'] = 0\n",
        "pokemonDF.loc[pokemonDF['type1'].isin([\"water\"]), 'type1'] = 1\n",
        "pokemonDF.loc[pokemonDF['type1'].isin([\"normal\"]), 'type1'] = -1"
      ],
      "metadata": {
        "id": "VqlQfq0tarcw"
      },
      "execution_count": 7,
      "outputs": []
    },
    {
      "cell_type": "code",
      "source": [
        "#remover não tipos agua ou normal.\n",
        "DFWN = pokemonDF.drop(pokemonDF[((pokemonDF['type1'] != 1) & (pokemonDF['type1'] != -1))].index,)"
      ],
      "metadata": {
        "id": "79UGAIkrWxqu"
      },
      "execution_count": 8,
      "outputs": []
    },
    {
      "cell_type": "markdown",
      "source": [
        "### Sampling\n",
        "Vamos seprar um número de pokémons para usar como teste e outros para treinamento.\n",
        "\n",
        "Cabe notar que existem mais geracoes de pokémons que presentes nesse data set, e portanto poderiamos testar com eles.\n",
        "\n",
        "A possibilidade de realizar esse processo vai depender dos dados mais importantes. Por esse motivo nós NÃO vamos normalizar os dados, já que isso poderia resultar em incosintências."
      ],
      "metadata": {
        "id": "AU7mFKfTKlyJ"
      }
    },
    {
      "cell_type": "code",
      "source": [
        "#Faz um split do data frame"
      ],
      "metadata": {
        "id": "CtF-p_mZKk31"
      },
      "execution_count": 9,
      "outputs": []
    },
    {
      "cell_type": "code",
      "source": [
        "pokemonDFY = pokemonDF.loc[:,\"type1\"]\n",
        "pokemonDFX = pokemonDF.drop([\"type1\"], axis =1,errors='ignore')\n",
        "\n",
        "DFWNY      = DFWN.loc[:,\"type1\"]\n",
        "DFWNX      = DFWN.drop([\"type1\"], axis =1,errors='ignore')"
      ],
      "metadata": {
        "id": "IP3TtFJXWFEZ"
      },
      "execution_count": 10,
      "outputs": []
    },
    {
      "cell_type": "code",
      "source": [
        "x_train, x_test, y_train, y_test = tts(DFWNX, DFWNY, test_size=0.25, random_state=0)\n",
        "#put y in a sklearn compatible type\n",
        "y_train = y_train.astype('int')"
      ],
      "metadata": {
        "id": "fbcRupZ1kgD8"
      },
      "execution_count": 11,
      "outputs": []
    },
    {
      "cell_type": "markdown",
      "source": [
        "## Analise dos dados"
      ],
      "metadata": {
        "id": "8jl_nPUwouTZ"
      }
    },
    {
      "cell_type": "code",
      "source": [
        "#rawData = pokemonDFX.loc[:].values\n",
        "#rawData\n",
        "#PCA().fit(X=rawData)"
      ],
      "metadata": {
        "id": "gRX0AzkCLNm_"
      },
      "execution_count": 35,
      "outputs": []
    },
    {
      "cell_type": "markdown",
      "source": [
        "#Aprendizado"
      ],
      "metadata": {
        "id": "I_ZW_z7uo2pJ"
      }
    },
    {
      "cell_type": "markdown",
      "source": [
        "## Logistic Regression"
      ],
      "metadata": {
        "id": "cpO6knLbZBbm"
      }
    },
    {
      "cell_type": "code",
      "source": [
        "lr = LogisticRegression()\n",
        "lr.fit(x_train.values, y_train.values)\n",
        "lr_predicts = lr.predict(x_test.values)\n",
        "y_test = y_test.astype('int')\n",
        "\n",
        "CM(lr_predicts, y_test)"
      ],
      "metadata": {
        "colab": {
          "base_uri": "https://localhost:8080/"
        },
        "id": "ZlJuJfyyZAuB",
        "outputId": "9d27f947-d4d4-42bd-fe0d-7f1311295590"
      },
      "execution_count": 28,
      "outputs": [
        {
          "output_type": "execute_result",
          "data": {
            "text/plain": [
              "array([[21, 12],\n",
              "       [ 5, 17]])"
            ]
          },
          "metadata": {},
          "execution_count": 28
        }
      ]
    },
    {
      "cell_type": "markdown",
      "source": [
        "## SVM"
      ],
      "metadata": {
        "id": "p17ec6EPZEcu"
      }
    },
    {
      "cell_type": "code",
      "source": [
        "svm = SVC()\n",
        "svm.fit(x_train.values, y_train.values)\n",
        "svm_predicts = svm.predict(x_test.values)\n",
        "\n",
        "CM(svm_predicts, y_test)"
      ],
      "metadata": {
        "id": "gciRzNFNo2Rk",
        "colab": {
          "base_uri": "https://localhost:8080/"
        },
        "outputId": "c2221ad0-b60c-42a1-8f23-1b9301d7f60c"
      },
      "execution_count": 29,
      "outputs": [
        {
          "output_type": "execute_result",
          "data": {
            "text/plain": [
              "array([[ 8,  5],\n",
              "       [18, 24]])"
            ]
          },
          "metadata": {},
          "execution_count": 29
        }
      ]
    },
    {
      "cell_type": "markdown",
      "source": [
        "## Decision Tree"
      ],
      "metadata": {
        "id": "fbpduOEcZHUe"
      }
    },
    {
      "cell_type": "code",
      "source": [
        "dt = DTC()\n",
        "dt.fit(x_train.values, y_train.values)\n",
        "dt_predicts = dt.predict(x_test.values)\n",
        "\n",
        "CM(dt_predicts, y_test)\n",
        "\n",
        "#plot_tree(dt)"
      ],
      "metadata": {
        "colab": {
          "base_uri": "https://localhost:8080/"
        },
        "id": "xvdLItkxZPir",
        "outputId": "bf12b928-5478-4103-a141-7d09d4fc4f9d"
      },
      "execution_count": 32,
      "outputs": [
        {
          "output_type": "execute_result",
          "data": {
            "text/plain": [
              "array([[24,  5],\n",
              "       [ 2, 24]])"
            ]
          },
          "metadata": {},
          "execution_count": 32
        }
      ]
    },
    {
      "cell_type": "markdown",
      "source": [
        "## Random Forest"
      ],
      "metadata": {
        "id": "AVRt-HBAZK2_"
      }
    },
    {
      "cell_type": "code",
      "source": [
        "rf = RFC()\n",
        "rf.fit(x_train.values, y_train.values)\n",
        "rf_predicts = rf.predict(x_test.values)\n",
        "\n",
        "CM(rf_predicts, y_test)"
      ],
      "metadata": {
        "colab": {
          "base_uri": "https://localhost:8080/"
        },
        "id": "PlhjdKUOZRKF",
        "outputId": "bc5ffaa7-2d7a-46ed-823d-d5a6c2960aa7"
      },
      "execution_count": 33,
      "outputs": [
        {
          "output_type": "execute_result",
          "data": {
            "text/plain": [
              "array([[22,  2],\n",
              "       [ 4, 27]])"
            ]
          },
          "metadata": {},
          "execution_count": 33
        }
      ]
    },
    {
      "cell_type": "markdown",
      "source": [
        "Vizualizacão"
      ],
      "metadata": {
        "id": "ClSXpVg8qGZ9"
      }
    }
  ]
}